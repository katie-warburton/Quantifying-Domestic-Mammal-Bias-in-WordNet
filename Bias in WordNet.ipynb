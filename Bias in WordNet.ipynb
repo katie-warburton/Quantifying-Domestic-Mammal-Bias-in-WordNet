{
 "cells": [
  {
   "cell_type": "markdown",
   "metadata": {},
   "source": [
    "# Domestic Bias in WordNet \n",
    "Code for Appendix D analyses in \"Quantifying Bias in Hierarchical Category Systems\". The following code takes in a list of wild and domestic starting nodes (starting synsets) and compute category count, level, and descendant bias towards domestic mammal synsets in WordNet.\n",
    "\n",
    "## Imports"
   ]
  },
  {
   "cell_type": "code",
   "execution_count": 1,
   "metadata": {},
   "outputs": [],
   "source": [
    "from nltk.corpus import wordnet as wn\n",
    "from statistics import mode\n",
    "from statistics import median\n",
    "from statistics import mean"
   ]
  },
  {
   "cell_type": "markdown",
   "metadata": {},
   "source": [
    "## Load Data"
   ]
  },
  {
   "cell_type": "code",
   "execution_count": 2,
   "metadata": {},
   "outputs": [],
   "source": [
    "with open('domestic_nodes.txt', 'r') as f:\n",
    "    domestic_nodes = f.read().splitlines()\n",
    "\n",
    "with open('wild_nodes.txt', 'r') as f:\n",
    "    wild_nodes = f.read().splitlines()\n"
   ]
  },
  {
   "cell_type": "markdown",
   "metadata": {},
   "source": [
    "## Functions"
   ]
  },
  {
   "cell_type": "code",
   "execution_count": 3,
   "metadata": {},
   "outputs": [],
   "source": [
    "'''\n",
    "Count the number of direct and in-direct hyponyms of a given sysnset.\n",
    "'''\n",
    "def get_num_descendants(synset):\n",
    "    kids = synset.hyponyms()\n",
    "    num_descendants = 0 \n",
    "    for kid in kids:\n",
    "        num_descendants += get_num_descendants(kid)\n",
    "    return len(kids) + num_descendants    \n",
    "\n",
    "'''\n",
    "Compute the depth of a synset. WordNet is not a strict hierachy, thus if a\n",
    "synset belongs to multiple parent categories (multiple chains of hypernyms \n",
    "leading to the root), compute the depth as the mean depth over all paths to \n",
    "the root. \n",
    "'''\n",
    "def get_depth(synset):\n",
    "    parents = synset.hypernyms()\n",
    "    if len(parents) == 0:\n",
    "        return 0 \n",
    "    elif len(parents) == 1:\n",
    "        return 1 + get_depth(parents[0])\n",
    "    else:\n",
    "        sub_depth = 0\n",
    "        for syn in parents:\n",
    "            sub_depth += get_depth(syn)\n",
    "        avg_depth = sub_depth/len(parents)\n",
    "    \n",
    "    return 1 + avg_depth\n",
    "\n",
    "'''\n",
    "Collect a node and all its children.\n",
    "'''\n",
    "def collect_nodes(synset, catList):\n",
    "    catList.append(synset.name())\n",
    "    for kid in synset.hyponyms():\n",
    "        collect_nodes(kid, catList)\n",
    "\n",
    "'''\n",
    "Count the total number of unique nodes given \n",
    "a list of starting nodes. \n",
    "'''\n",
    "def count_nodes(nodes):\n",
    "    catList = []\n",
    "    for node in nodes:\n",
    "        synset = wn.synset(node)\n",
    "        collect_nodes(synset, catList)\n",
    "    return len(list(set(catList))) # duplicates are removed. "
   ]
  },
  {
   "cell_type": "code",
   "execution_count": 4,
   "metadata": {},
   "outputs": [],
   "source": [
    "def run_analysis(nodes, node_label):\n",
    "    num_desc = 0\n",
    "    avg_depth = 0\n",
    "    descs = []\n",
    "    node_count = count_nodes(nodes) # node count\n",
    "    for node in nodes:\n",
    "        synset = wn.synset(node)\n",
    "        avg_depth += get_depth(synset) # node depth \n",
    "        desc = get_num_descendants(synset) # number of descendants\n",
    "        num_desc += desc\n",
    "        descs.append(desc)\n",
    "    avg_depth = avg_depth / len(nodes)\n",
    "    avg_num_desc = num_desc / len(nodes)\n",
    "    # collect descedant counts for non-leaf nodes (nodes with 1+ hyponyms)\n",
    "    non_leaf = [node for node in descs if node != 0] \n",
    "    print(f'{node_label}\\n\\tStarting Node Count: {len(nodes)}\\n\\tNode Count: {node_count}\\n\\tAvg. Depth: {round(avg_depth, 2)}\\n\\tMean # of Descendants: {round(avg_num_desc, 2)}')\n",
    "    print(f'\\tMode # of Descendants: {round(mode(descs))}\\n\\tMedian # of Descendants: {round(median(descs))}')\n",
    "    print(f'\\tNumber of non-leaf starting nodes: {len(non_leaf)} ({round((len(non_leaf) / len(nodes))*100, 2)}%)\\n\\tMean # of desc per non-leaf start node: {round(mean(non_leaf), 2)}')\n",
    "    print(f'\\tMedian number of descendants per non-leaf starting nodes: {round(median(non_leaf), 2)}')\n"
   ]
  },
  {
   "cell_type": "markdown",
   "metadata": {},
   "source": [
    "## Analysis\n",
    "There is evedince of bias towards domestic mammals in WordNet as there are more synsets for domestic mammals than for wild mammals, and domestic mammal synsets tend to have more hyponyms (descendants) than wild ones."
   ]
  },
  {
   "cell_type": "code",
   "execution_count": 5,
   "metadata": {},
   "outputs": [
    {
     "name": "stdout",
     "output_type": "stream",
     "text": [
      "DOMESTIC NODES\n",
      "\tStarting Node Count: 19\n",
      "\tNode Count: 398\n",
      "\tAvg. Depth: 14.34\n",
      "\tMean # of Descendants: 20.0\n",
      "\tMode # of Descendants: 0\n",
      "\tMedian # of Descendants: 2\n",
      "\tNumber of non-leaf starting nodes: 12 (63.16%)\n",
      "\tMean # of desc per non-leaf start node: 31.67\n",
      "\tMedian number of descendants per non-leaf starting nodes: 6.5\n",
      "\n",
      "WILD NODES\n",
      "\tStarting Node Count: 309\n",
      "\tNode Count: 344\n",
      "\tAvg. Depth: 14.27\n",
      "\tMean # of Descendants: 0.13\n",
      "\tMode # of Descendants: 0\n",
      "\tMedian # of Descendants: 0\n",
      "\tNumber of non-leaf starting nodes: 24 (7.77%)\n",
      "\tMean # of desc per non-leaf start node: 1.67\n",
      "\tMedian number of descendants per non-leaf starting nodes: 1.0\n"
     ]
    }
   ],
   "source": [
    "wild_nodes = [node for node in list(set(wild_nodes)) if node not in domestic_nodes]\n",
    "run_analysis(domestic_nodes, 'DOMESTIC NODES')\n",
    "print(\"\")\n",
    "run_analysis(wild_nodes, 'WILD NODES')"
   ]
  }
 ],
 "metadata": {
  "kernelspec": {
   "display_name": "optimalityProj",
   "language": "python",
   "name": "python3"
  },
  "language_info": {
   "codemirror_mode": {
    "name": "ipython",
    "version": 3
   },
   "file_extension": ".py",
   "mimetype": "text/x-python",
   "name": "python",
   "nbconvert_exporter": "python",
   "pygments_lexer": "ipython3",
   "version": "3.10.9"
  }
 },
 "nbformat": 4,
 "nbformat_minor": 2
}
